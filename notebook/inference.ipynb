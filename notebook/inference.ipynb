{
 "metadata": {
  "language_info": {
   "codemirror_mode": {
    "name": "ipython",
    "version": 3
   },
   "file_extension": ".py",
   "mimetype": "text/x-python",
   "name": "python",
   "nbconvert_exporter": "python",
   "pygments_lexer": "ipython3",
   "version": "3.8.3-final"
  },
  "orig_nbformat": 2,
  "kernelspec": {
   "name": "python3",
   "display_name": "Python 3.8.3 64-bit ('anaconda3': conda)",
   "metadata": {
    "interpreter": {
     "hash": "995fab6807049b0033455910b5a01f03bf43916313819fff69fd1bf1c03291f8"
    }
   }
  }
 },
 "nbformat": 4,
 "nbformat_minor": 2,
 "cells": [
  {
   "cell_type": "code",
   "execution_count": 6,
   "metadata": {},
   "outputs": [],
   "source": [
    "import os\n",
    "import sys\n",
    "import cv2\n",
    "sys.path.append('/home/tonne/code/TrafficSignDetection/data/thirdparty/efficientdet-pytorch/')\n",
    "sys.path.append('/home/tonne/code/TrafficSignDetection/')\n",
    "import matplotlib.pyplot as plt\n",
    "from typing import Optional, Dict, List\n",
    "import torch\n",
    "import pytorch_lightning as pl\n",
    "from model.efficientdet import EfficientDetTrain\n",
    "\n",
    "from dataset.dataset import get_train_transforms, zaloDataset, collate_fn\n",
    "\n",
    "\n",
    "from effdet.anchors import Anchors, AnchorLabeler, generate_detections, MAX_DETECTION_POINTS\n"
   ]
  },
  {
   "cell_type": "code",
   "execution_count": 7,
   "metadata": {},
   "outputs": [],
   "source": [
    "def _post_process(\n",
    "        cls_outputs: List[torch.Tensor],\n",
    "        box_outputs: List[torch.Tensor],\n",
    "        num_levels: int,\n",
    "        num_classes: int,\n",
    "        max_detection_points: int = MAX_DETECTION_POINTS,\n",
    "):\n",
    "    \"\"\"Selects top-k predictions.\n",
    "    Post-proc code adapted from Tensorflow version at: https://github.com/google/automl/tree/master/efficientdet\n",
    "    and optimized for PyTorch.\n",
    "    Args:\n",
    "        cls_outputs: an OrderDict with keys representing levels and values\n",
    "            representing logits in [batch_size, height, width, num_anchors].\n",
    "        box_outputs: an OrderDict with keys representing levels and values\n",
    "            representing box regression targets in [batch_size, height, width, num_anchors * 4].\n",
    "        num_levels (int): number of feature levels\n",
    "        num_classes (int): number of output classes\n",
    "    \"\"\"\n",
    "    batch_size = cls_outputs[0].shape[0]\n",
    "    cls_outputs_all = torch.cat([\n",
    "        cls_outputs[level].permute(0, 2, 3, 1).reshape([batch_size, -1, num_classes])\n",
    "        for level in range(num_levels)], 1)\n",
    "\n",
    "    box_outputs_all = torch.cat([\n",
    "        box_outputs[level].permute(0, 2, 3, 1).reshape([batch_size, -1, 4])\n",
    "        for level in range(num_levels)], 1)\n",
    "\n",
    "    _, cls_topk_indices_all = torch.topk(cls_outputs_all.reshape(batch_size, -1), dim=1, k=max_detection_points)\n",
    "    indices_all = cls_topk_indices_all // num_classes\n",
    "    classes_all = cls_topk_indices_all % num_classes\n",
    "\n",
    "    box_outputs_all_after_topk = torch.gather(\n",
    "        box_outputs_all, 1, indices_all.unsqueeze(2).expand(-1, -1, 4))\n",
    "\n",
    "    cls_outputs_all_after_topk = torch.gather(\n",
    "        cls_outputs_all, 1, indices_all.unsqueeze(2).expand(-1, -1, num_classes))\n",
    "    cls_outputs_all_after_topk = torch.gather(\n",
    "        cls_outputs_all_after_topk, 2, classes_all.unsqueeze(2))\n",
    "\n",
    "    return cls_outputs_all_after_topk, box_outputs_all_after_topk, indices_all, classes_all\n",
    "@torch.jit.script\n",
    "def _batch_detection(\n",
    "        batch_size: int, class_out, box_out, anchor_boxes, indices, classes,\n",
    "        img_scale: Optional[torch.Tensor] = None, img_size: Optional[torch.Tensor] = None):\n",
    "    batch_detections = []\n",
    "    # FIXME we may be able to do this as a batch with some tensor reshaping/indexing, PR welcome\n",
    "    for i in range(batch_size):\n",
    "        img_scale_i = None if img_scale is None else img_scale[i]\n",
    "        img_size_i = None if img_size is None else img_size[i]\n",
    "        detections = generate_detections(\n",
    "            class_out[i], box_out[i], anchor_boxes, indices[i], classes[i], img_scale_i, img_size_i)\n",
    "        batch_detections.append(detections)\n",
    "    return torch.stack(batch_detections, dim=0)"
   ]
  },
  {
   "cell_type": "code",
   "execution_count": 8,
   "metadata": {},
   "outputs": [],
   "source": [
    "train_dataset = zaloDataset(root_path = \"/home/tonne/code/TrafficSignDetection/data/za_traffic_2020/traffic_train/images\",\n",
    "                    file_name = \"/home/tonne/code/TrafficSignDetection/data/za_traffic_2020/traffic_train/train_traffic_sign_dataset.json\",\n",
    "                    transforms=get_train_transforms())\n",
    "train_loader = torch.utils.data.DataLoader(train_dataset, batch_size = 10, shuffle =True, num_workers=8, collate_fn=collate_fn)"
   ]
  },
  {
   "cell_type": "code",
   "execution_count": 11,
   "metadata": {},
   "outputs": [
    {
     "output_type": "stream",
     "name": "stdout",
     "text": [
      "output:  torch.Size([10, 100, 6])\nimage:  (512, 512, 3)\n"
     ]
    },
    {
     "output_type": "error",
     "ename": "TypeError",
     "evalue": "Expected Ptr<cv::UMat> for argument 'img'",
     "traceback": [
      "\u001b[0;31m---------------------------------------------------------------------------\u001b[0m",
      "\u001b[0;31mTypeError\u001b[0m                                 Traceback (most recent call last)",
      "\u001b[0;32m<ipython-input-11-b81c936ae655>\u001b[0m in \u001b[0;36m<module>\u001b[0;34m\u001b[0m\n\u001b[1;32m     23\u001b[0m             \u001b[0mimage\u001b[0m \u001b[0;34m=\u001b[0m \u001b[0mx\u001b[0m\u001b[0;34m[\u001b[0m\u001b[0;36m0\u001b[0m\u001b[0;34m]\u001b[0m\u001b[0;34m.\u001b[0m\u001b[0mpermute\u001b[0m\u001b[0;34m(\u001b[0m\u001b[0;36m1\u001b[0m\u001b[0;34m,\u001b[0m \u001b[0;36m2\u001b[0m\u001b[0;34m,\u001b[0m \u001b[0;36m0\u001b[0m\u001b[0;34m)\u001b[0m\u001b[0;34m.\u001b[0m\u001b[0mcpu\u001b[0m\u001b[0;34m(\u001b[0m\u001b[0;34m)\u001b[0m\u001b[0;34m.\u001b[0m\u001b[0mnumpy\u001b[0m\u001b[0;34m(\u001b[0m\u001b[0;34m)\u001b[0m\u001b[0;34m\u001b[0m\u001b[0;34m\u001b[0m\u001b[0m\n\u001b[1;32m     24\u001b[0m             \u001b[0mprint\u001b[0m\u001b[0;34m(\u001b[0m\u001b[0;34m'image: '\u001b[0m\u001b[0;34m,\u001b[0m \u001b[0mimage\u001b[0m\u001b[0;34m.\u001b[0m\u001b[0mshape\u001b[0m\u001b[0;34m)\u001b[0m\u001b[0;34m\u001b[0m\u001b[0;34m\u001b[0m\u001b[0m\n\u001b[0;32m---> 25\u001b[0;31m             \u001b[0mcv2\u001b[0m\u001b[0;34m.\u001b[0m\u001b[0mrectangle\u001b[0m\u001b[0;34m(\u001b[0m\u001b[0mimage\u001b[0m\u001b[0;34m,\u001b[0m \u001b[0;34m(\u001b[0m\u001b[0;36m2\u001b[0m\u001b[0;34m,\u001b[0m \u001b[0;36m2\u001b[0m\u001b[0;34m)\u001b[0m\u001b[0;34m,\u001b[0m \u001b[0;34m(\u001b[0m\u001b[0;36m4\u001b[0m\u001b[0;34m,\u001b[0m \u001b[0;36m4\u001b[0m\u001b[0;34m)\u001b[0m\u001b[0;34m,\u001b[0m \u001b[0;34m(\u001b[0m\u001b[0;36m1\u001b[0m\u001b[0;34m,\u001b[0m \u001b[0;36m0\u001b[0m\u001b[0;34m,\u001b[0m \u001b[0;36m0\u001b[0m\u001b[0;34m)\u001b[0m\u001b[0;34m,\u001b[0m \u001b[0;36m1\u001b[0m\u001b[0;34m)\u001b[0m\u001b[0;34m\u001b[0m\u001b[0;34m\u001b[0m\u001b[0m\n\u001b[0m\u001b[1;32m     26\u001b[0m             \u001b[0max\u001b[0m\u001b[0;34m.\u001b[0m\u001b[0mset_axis_off\u001b[0m\u001b[0;34m(\u001b[0m\u001b[0;34m)\u001b[0m\u001b[0;34m\u001b[0m\u001b[0;34m\u001b[0m\u001b[0m\n\u001b[1;32m     27\u001b[0m             \u001b[0mfig\u001b[0m\u001b[0;34m.\u001b[0m\u001b[0msavefig\u001b[0m\u001b[0;34m(\u001b[0m\u001b[0;34m'out.png'\u001b[0m\u001b[0;34m)\u001b[0m\u001b[0;34m\u001b[0m\u001b[0;34m\u001b[0m\u001b[0m\n",
      "\u001b[0;31mTypeError\u001b[0m: Expected Ptr<cv::UMat> for argument 'img'"
     ]
    }
   ],
   "source": [
    "model = EfficientDetTrain(model_name = 'tf_efficientdet_d0',\n",
    "                          num_classes=1)\n",
    "model.load_from_checkpoint('/home/tonne/code/TrafficSignDetection/lightning_logs/version_1/checkpoints/epoch=24.ckpt',\n",
    "                           model_name = 'tf_efficientdet_d0', num_classes = 1)\n",
    "for batch in train_loader:\n",
    "    x, targets, idx = batch\n",
    "    x = torch.stack(x, dim = 0)\n",
    "    class_out, box_out = model(x)\n",
    "    class_out, box_out, indices, classes = _post_process(\n",
    "            class_out, box_out, num_levels=model.num_levels, num_classes=model.num_classes)\n",
    "    img_info = None\n",
    "    if img_info is None:\n",
    "        img_scale, img_size = None, None\n",
    "    else:\n",
    "        img_scale, img_size = img_info['img_scale'], img_info['img_size']\n",
    "    output =  _batch_detection(x.shape[0], class_out, box_out, model.anchors.boxes, indices, classes, img_scale, img_size)\n",
    "    print('output: ', output.shape)\n",
    "    visualization = True \n",
    "\n",
    "    if visualization:\n",
    "        fig, ax = plt.subplots(1, 1, figsize=(16, 8))\n",
    "        for i in range(2): \n",
    "            image = x[0].permute(1, 2, 0).cpu().numpy()\n",
    "            print('image: ', image.shape)\n",
    "            cv2.rectangle(np.array(image), (2, 2), (4, 4), (1, 0, 0), 1)\n",
    "            ax.set_axis_off()\n",
    "            fig.savefig('out.png')\n",
    "            break\n",
    "    \n",
    "\n",
    "    break\n",
    "\n"
   ]
  },
  {
   "cell_type": "code",
   "execution_count": null,
   "metadata": {},
   "outputs": [],
   "source": []
  },
  {
   "cell_type": "code",
   "execution_count": null,
   "metadata": {},
   "outputs": [],
   "source": []
  },
  {
   "cell_type": "code",
   "execution_count": null,
   "metadata": {},
   "outputs": [],
   "source": []
  }
 ]
}